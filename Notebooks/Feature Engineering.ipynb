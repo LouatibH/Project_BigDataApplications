{
 "cells": [
  {
   "cell_type": "code",
   "execution_count": 1,
   "metadata": {},
   "outputs": [],
   "source": [
    "import pandas as pd\n",
    "import numpy as np\n",
    "from numpy import loadtxt"
   ]
  },
  {
   "cell_type": "code",
   "execution_count": 2,
   "metadata": {},
   "outputs": [],
   "source": [
    "application_train = pd.read_csv('application_clean_train.csv')\n",
    "application_test = pd.read_csv('application_test.csv')"
   ]
  },
  {
   "cell_type": "markdown",
   "metadata": {},
   "source": [
    "### Average on null value for quantitive variable "
   ]
  },
  {
   "cell_type": "code",
   "execution_count": 3,
   "metadata": {},
   "outputs": [],
   "source": [
    "quantitative = application_train.select_dtypes(include=np.number).apply(lambda x: x.fillna(x.mean()) ,axis=0)\n",
    "qualitative = application_train.select_dtypes(exclude=np.number)\n",
    "application_train = qualitative.join(quantitative)"
   ]
  },
  {
   "cell_type": "markdown",
   "metadata": {},
   "source": [
    "### Encoding "
   ]
  },
  {
   "cell_type": "code",
   "execution_count": 4,
   "metadata": {},
   "outputs": [
    {
     "name": "stdout",
     "output_type": "stream",
     "text": [
      "Shape of the train   (307511, 206)\n",
      "Shape of the test  (48744, 242)\n"
     ]
    }
   ],
   "source": [
    "application_train = pd.get_dummies(application_train)\n",
    "application_test = pd.get_dummies(application_test)\n",
    "\n",
    "print('Shape of the train  ', application_train.shape)\n",
    "print('Shape of the test ', application_test.shape)"
   ]
  },
  {
   "cell_type": "markdown",
   "metadata": {},
   "source": [
    "### Keep same variable in train and test "
   ]
  },
  {
   "cell_type": "code",
   "execution_count": 5,
   "metadata": {},
   "outputs": [
    {
     "name": "stdout",
     "output_type": "stream",
     "text": [
      "Shape of the train : (307511, 202)\n",
      "Shape of the train : (48744, 201)\n"
     ]
    }
   ],
   "source": [
    "label = application_train['TARGET']\n",
    "application_train, application_test = application_train.align(application_test, join='inner', axis=1)\n",
    "application_train['TARGET'] = label\n",
    "\n",
    "print('Shape of the train :', application_train.shape)\n",
    "print('Shape of the train :', application_test.shape)"
   ]
  },
  {
   "cell_type": "markdown",
   "metadata": {},
   "source": [
    "### Correlation"
   ]
  },
  {
   "cell_type": "code",
   "execution_count": 6,
   "metadata": {},
   "outputs": [
    {
     "name": "stdout",
     "output_type": "stream",
     "text": [
      "Prositive top 20 :\n",
      " NAME_HOUSING_TYPE_With parents                       0.029966\n",
      "NAME_CONTRACT_TYPE_Cash loans                        0.030896\n",
      "DEF_60_CNT_SOCIAL_CIRCLE                             0.031251\n",
      "DEF_30_CNT_SOCIAL_CIRCLE                             0.032222\n",
      "LIVE_CITY_NOT_WORK_CITY                              0.032518\n",
      "DAYS_REGISTRATION                                    0.041975\n",
      "FLAG_DOCUMENT_3                                      0.044346\n",
      "REG_CITY_NOT_LIVE_CITY                               0.044395\n",
      "FLAG_EMP_PHONE                                       0.045982\n",
      "NAME_EDUCATION_TYPE_Secondary / secondary special    0.049824\n",
      "REG_CITY_NOT_WORK_CITY                               0.050994\n",
      "DAYS_ID_PUBLISH                                      0.051457\n",
      "CODE_GENDER_M                                        0.054713\n",
      "DAYS_LAST_PHONE_CHANGE                               0.055218\n",
      "NAME_INCOME_TYPE_Working                             0.057481\n",
      "REGION_RATING_CLIENT                                 0.058899\n",
      "REGION_RATING_CLIENT_W_CITY                          0.060893\n",
      "DAYS_EMPLOYED                                        0.070075\n",
      "DAYS_BIRTH                                           0.078239\n",
      "TARGET                                               1.000000\n",
      "Name: TARGET, dtype: float64\n",
      "\n",
      "\n",
      "Negative top 20 :\n",
      " EXT_SOURCE_2                           -0.160303\n",
      "EXT_SOURCE_3                           -0.157397\n",
      "EXT_SOURCE_1                           -0.099152\n",
      "NAME_EDUCATION_TYPE_Higher education   -0.056593\n",
      "CODE_GENDER_F                          -0.054704\n",
      "NAME_INCOME_TYPE_Pensioner             -0.046209\n",
      "ORGANIZATION_TYPE_XNA                  -0.045987\n",
      "AMT_GOODS_PRICE                        -0.039628\n",
      "REGION_POPULATION_RELATIVE             -0.037227\n",
      "NAME_CONTRACT_TYPE_Revolving loans     -0.030896\n",
      "AMT_CREDIT                             -0.030369\n",
      "FLOORSMAX_AVG                          -0.029145\n",
      "FLOORSMAX_MEDI                         -0.028989\n",
      "FLOORSMAX_MODE                         -0.028631\n",
      "FLAG_DOCUMENT_6                        -0.028602\n",
      "NAME_HOUSING_TYPE_House / apartment    -0.028555\n",
      "NAME_FAMILY_STATUS_Married             -0.025043\n",
      "HOUR_APPR_PROCESS_START                -0.024166\n",
      "FLAG_PHONE                             -0.023806\n",
      "NAME_INCOME_TYPE_State servant         -0.023447\n",
      "Name: TARGET, dtype: float64\n"
     ]
    }
   ],
   "source": [
    "correlation = application_train.corr()['TARGET'].sort_values()\n",
    "print('Prositive top 20 :\\n',correlation.tail(20))\n",
    "print('\\n\\nNegative top 20 :\\n',correlation.head(20))"
   ]
  },
  {
   "cell_type": "code",
   "execution_count": 7,
   "metadata": {},
   "outputs": [],
   "source": [
    "application_train.to_csv('train.csv')\n",
    "application_test.to_csv('test.csv')"
   ]
  }
 ],
 "metadata": {
  "kernelspec": {
   "display_name": "Python 3",
   "language": "python",
   "name": "python3"
  },
  "language_info": {
   "codemirror_mode": {
    "name": "ipython",
    "version": 3
   },
   "file_extension": ".py",
   "mimetype": "text/x-python",
   "name": "python",
   "nbconvert_exporter": "python",
   "pygments_lexer": "ipython3",
   "version": "3.6.12"
  }
 },
 "nbformat": 4,
 "nbformat_minor": 4
}
